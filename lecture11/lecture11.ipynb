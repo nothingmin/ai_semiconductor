{
 "cells": [
  {
   "cell_type": "code",
   "outputs": [
    {
     "ename": "SyntaxError",
     "evalue": "incomplete input (1885685650.py, line 15)",
     "output_type": "error",
     "traceback": [
      "\u001B[1;36m  Cell \u001B[1;32mIn[120], line 15\u001B[1;36m\u001B[0m\n\u001B[1;33m    def __init__(self,num_input_features,num_hiddens):\u001B[0m\n\u001B[1;37m                                                      ^\u001B[0m\n\u001B[1;31mSyntaxError\u001B[0m\u001B[1;31m:\u001B[0m incomplete input\n"
     ]
    }
   ],
   "source": [
    "import torch\n",
    "import numpy as np\n",
    "from torch import nn, optim\n",
    "import matplotlib.pyplot as plt\n",
    "\n",
    "x_seeds = np.array([(0, 0), (1, 0), (0, 1), (1, 1)], dtype=np.float32)\n",
    "y_seeds = np.array([0, 1, 1, 0])\n",
    "N = 1000\n",
    "idxs = np.random.randint(0, 4, N)\n",
    "X = x_seeds[idxs]\n",
    "Y = y_seeds[idxs]\n",
    "X += np.random.normal(scale=0.25, size=X.shape)\n",
    "\n",
    "\n",
    "class shallow_neural_network(nn.Module):\n",
    "    def __init__(self, num_input_features, num_hiddens):\n",
    "        super().__init__()\n",
    "        self.num_input_features = num_input_features\n",
    "        self.num_hiddens = num_hiddens\n",
    "        self.linear1 = nn.Linear(self.num_input_features, self.num_hiddens)\n",
    "        self.linear2 = nn.Linear(self.num_hiddens, 1)\n",
    "        self.tanh = nn.Tanh()\n",
    "        self.sigmoid = nn.Sigmoid()\n",
    "        \n",
    "    def forward(self,x):\n",
    "        z1 = self.linear1(x)\n",
    "        a1=self.tanh(z1)\n",
    "        z2= self.linear2(a1)\n",
    "        a2=self.sigmoid(z2)\n",
    "        return a2\n",
    "    \n",
    "    "
   ],
   "metadata": {
    "collapsed": false,
    "ExecuteTime": {
     "end_time": "2024-04-09T08:40:42.767837Z",
     "start_time": "2024-04-09T08:40:42.757527Z"
    }
   },
   "id": "e5436f309758f74b",
   "execution_count": 120
  }
 ],
 "metadata": {
  "kernelspec": {
   "display_name": "Python 3",
   "language": "python",
   "name": "python3"
  },
  "language_info": {
   "codemirror_mode": {
    "name": "ipython",
    "version": 2
   },
   "file_extension": ".py",
   "mimetype": "text/x-python",
   "name": "python",
   "nbconvert_exporter": "python",
   "pygments_lexer": "ipython2",
   "version": "2.7.6"
  }
 },
 "nbformat": 4,
 "nbformat_minor": 5
}
