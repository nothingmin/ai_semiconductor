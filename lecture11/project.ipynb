{
 "cells": [
  {
   "metadata": {
    "ExecuteTime": {
     "end_time": "2024-05-01T22:03:23.655713Z",
     "start_time": "2024-05-01T22:02:26.914469Z"
    }
   },
   "cell_type": "code",
   "source": [
    "import torch\n",
    "from torch import nn, optim\n",
    "import torch.nn.functional as F\n",
    "import torch.utils.data\n",
    "import torchvision\n",
    "from torchvision import datasets, transforms;\n",
    "import matplotlib.pyplot as plt\n",
    "import numpy as np\n",
    "\n",
    "# train set과 test set 불러오기\n",
    "train_data = datasets.MNIST('./datasets', train=True, download=True, transform=transforms.ToTensor())\n",
    "test_data = datasets.MNIST('./datasets', train=False, download=True, transform=transforms.ToTensor())\n",
    "# 한번에 batch_size  만큼의 데이터만 불러오게 하고, 순서를 섞어서 불러오게 해줌. \n",
    "batch_size = 12\n",
    "train_loader = torch.utils.data.DataLoader(train_data, batch_size=batch_size, shuffle=True)\n",
    "test_loader = torch.utils.data.DataLoader(test_data, batch_size=batch_size)\n",
    "\n",
    "# Set the dtypes of parameters\n",
    "weight_type = torch.float64\n",
    "torch.set_default_dtype(weight_type)\n",
    "\n",
    "\n",
    "# Define MLP neural network model\n",
    "class MLP(nn.Module):\n",
    "    def __init__(self, num_of_hidden_layers, num_of_neurons):\n",
    "        super().__init__()\n",
    "        self.in_dim = 28 * 28  # input dimension\n",
    "        self.out_dim = 10  # output dimension (class 0~9)\n",
    "        # 층 정의\n",
    "        layers = [nn.Linear(self.in_dim, num_of_neurons), nn.ReLU()]\n",
    "        for _ in range(num_of_hidden_layers):\n",
    "            layers.append(nn.Linear(num_of_neurons, num_of_neurons))\n",
    "            layers.append(nn.ReLU())\n",
    "        layers.append(nn.Linear(num_of_neurons, self.out_dim))\n",
    "        self.model = nn.Sequential(*layers)\n",
    "\n",
    "    def forward(self, x):\n",
    "        return self.model(x.view(-1, self.in_dim))\n",
    "\n",
    "    def accuracy(self):\n",
    "        n_predict = 0\n",
    "        n_correct = 0\n",
    "        wrong = []\n",
    "        expected = []\n",
    "        results = []\n",
    "        for data in test_loader:\n",
    "            inputs, labels = data\n",
    "            outputs = self(inputs)\n",
    "            _, predicted = torch.max(outputs, 1)\n",
    "            n_predict += len(predicted)\n",
    "            for label, pred, input in zip(labels, predicted, inputs):\n",
    "                if label != pred:\n",
    "                    wrong.append(input)\n",
    "                    expected.append(pred)\n",
    "                    results.append(label)\n",
    "                else:\n",
    "                    n_correct += 1\n",
    "        return n_correct / n_predict\n",
    "\n",
    "    def size(self):\n",
    "        param_size = 0\n",
    "        buffer_size = 0\n",
    "        for param in self.parameters():\n",
    "            param_size += param.nelement() * param.element_size()\n",
    "        for buffer in self.buffers():\n",
    "            buffer_size += buffer.nelement() * buffer.element_size()\n",
    "        size_all_kb = (param_size + buffer_size) / 1024 ** 2\n",
    "        return size_all_kb\n",
    "\n",
    "    def _train(self):\n",
    "        criterion = nn.CrossEntropyLoss()  # Loss function\n",
    "        optimizer = optim.SGD(self.parameters(), lr=0.01)  # optimizer  \n",
    "        for epoch in range(5):\n",
    "            # batch iteration, batch_size가 12이고, MNIST 데이터는 6만개이므로 5000번의 iteration\n",
    "            for i, data in enumerate(train_loader, 0):\n",
    "                inputs, label = data\n",
    "                self.zero_grad()  # 이전 batch iteration 에서 기울기 값이 누적 되지 않기 위해 기울기를 초기화\n",
    "                outputs = self(inputs)\n",
    "                loss = criterion(outputs, label)  # loss 계산\n",
    "                loss.backward()  # 기울기 계산\n",
    "                optimizer.step()  # 파라미터 업데이트\n",
    "        print(\"Accuracy: {}\".format((self.accuracy())))\n",
    "        print('Size: {:.3f} MB'.format(self.size()))\n",
    "\n",
    "\n",
    "for num_of_hidden_layers in [1, 3, 5, 7]:\n",
    "    for num_of_neurons in [64, 32, 16, 8, 4]:\n",
    "        print(\"model with {} layers and {} neurons\".format(num_of_hidden_layers, num_of_neurons))\n",
    "        model = MLP(num_of_hidden_layers, num_of_neurons)\n",
    "        model._train()\n",
    "        print(\"--------------------------------------\")"
   ],
   "id": "39b92aca7c6f865d",
   "outputs": [
    {
     "name": "stdout",
     "output_type": "stream",
     "text": [
      "model with 1 layers and 64 neurons\n",
      "Accuracy: 0.9555\n",
      "Size: 0.420 MB\n",
      "--------------------------------------\n",
      "model with 1 layers and 32 neurons\n"
     ]
    },
    {
     "name": "stderr",
     "output_type": "stream",
     "text": [
      "\n",
      "KeyboardInterrupt\n",
      "\n"
     ]
    }
   ],
   "execution_count": 88
  },
  {
   "metadata": {},
   "cell_type": "markdown",
   "source": "",
   "id": "f788fa32f4e0425e"
  },
  {
   "metadata": {
    "ExecuteTime": {
     "end_time": "2024-05-01T22:05:50.365627Z",
     "start_time": "2024-05-01T22:05:18.147332Z"
    }
   },
   "cell_type": "code",
   "source": [
    "import os\n",
    "\n",
    "# Set the dtypes of parameters\n",
    "weight_type = torch.float32\n",
    "torch.set_default_dtype(weight_type)\n",
    "\n",
    "model_fp32 = MLP(1, 64)\n",
    "model_fp32._train()\n",
    "\n",
    "model_int8 = torch.ao.quantization.quantize_dynamic(\n",
    "    model_fp32,  # the original model\n",
    "    {torch.nn.Linear},  # a set of layers to dynamically quantize\n",
    "    dtype=torch.qint8)\n",
    "\n",
    "n_predict = 0\n",
    "n_correct = 0\n",
    "wrong = []\n",
    "expected = []\n",
    "results = []\n",
    "for data in test_loader:\n",
    "    inputs, labels = data\n",
    "    outputs = model_int8(inputs)\n",
    "    _, predicted = torch.max(outputs, 1)\n",
    "    n_predict += len(predicted)\n",
    "    for label, pred, input in zip(labels, predicted, inputs):\n",
    "        if label != pred:\n",
    "            wrong.append(input)\n",
    "            expected.append(pred)\n",
    "            results.append(label)\n",
    "        else:\n",
    "            n_correct += 1\n",
    "\n",
    "\n",
    "\n",
    "def print_size_of_model(model, label=\"\"):\n",
    "    torch.save(model.state_dict(), \"temp.p\")\n",
    "    size = os.path.getsize(\"temp.p\")\n",
    "    print(\"model: \", label, ' \\t', 'Size (KB):', size / 1e3)\n",
    "    os.remove('temp.p')\n",
    "    return size\n",
    "\n",
    "print(\"Accuracy after quantiztion: {}\".format((n_correct / n_predict)))\n",
    "print_size_of_model(model_int8)"
   ],
   "id": "ab169fd26b31b75c",
   "outputs": [
    {
     "name": "stdout",
     "output_type": "stream",
     "text": [
      "Accuracy: 0.9595\n",
      "Size: 0.210 MB\n",
      "Accuracy after quantiztion: 0.9595\n",
      "model:    \t Size (KB): 59.714\n"
     ]
    },
    {
     "data": {
      "text/plain": [
       "59714"
      ]
     },
     "execution_count": 91,
     "metadata": {},
     "output_type": "execute_result"
    }
   ],
   "execution_count": 91
  },
  {
   "metadata": {},
   "cell_type": "code",
   "outputs": [],
   "execution_count": null,
   "source": "",
   "id": "f1698f7e7548e5ec"
  }
 ],
 "metadata": {
  "kernelspec": {
   "display_name": "Python 3",
   "language": "python",
   "name": "python3"
  },
  "language_info": {
   "codemirror_mode": {
    "name": "ipython",
    "version": 2
   },
   "file_extension": ".py",
   "mimetype": "text/x-python",
   "name": "python",
   "nbconvert_exporter": "python",
   "pygments_lexer": "ipython2",
   "version": "2.7.6"
  }
 },
 "nbformat": 4,
 "nbformat_minor": 5
}
