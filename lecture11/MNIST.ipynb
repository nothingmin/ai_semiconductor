{
 "cells": [
  {
   "cell_type": "markdown",
   "source": [],
   "metadata": {
    "collapsed": false
   },
   "id": "dc1b505d42bb969a"
  },
  {
   "cell_type": "code",
   "outputs": [],
   "source": [
    "import torch\n",
    "from torch import nn,optim\n",
    "import torch.nn.functional as F\n",
    "import torchvision\n",
    "from torchvision import datasets, transforms\n",
    "import matplotlib.pyplot as plt\n",
    "import numpy as np\n",
    "\n",
    "batch_size = 12\n",
    "train_data = datasets.MNIST('./datasets', train=True, download=True, transform=transforms.ToTensor() )\n",
    "test_data = datasets.MNIST('./datasets', train=False, download=True, transform=transforms.ToTensor() )\n",
    "\n",
    "train_loader = torch.utils.data.DataLoader(train_data,batch_size=batch_size,shuffle=True)\n",
    "test_loader = torch.utils.data.DataLoader(test_data,batch_size=batch_size)\n"
   ],
   "metadata": {
    "collapsed": false,
    "ExecuteTime": {
     "end_time": "2024-04-10T15:42:21.303457Z",
     "start_time": "2024-04-10T15:42:21.245288Z"
    }
   },
   "id": "508d37e490b23f97",
   "execution_count": 8
  },
  {
   "cell_type": "code",
   "outputs": [
    {
     "name": "stdout",
     "output_type": "stream",
     "text": [
      "[1,  2000] loss: 2.154\n",
      "[1,  4000] loss: 2.890\n",
      "[2,  2000] loss: 0.315\n",
      "[2,  4000] loss: 0.551\n",
      "[3,  2000] loss: 0.158\n",
      "[3,  4000] loss: 0.305\n",
      "[4,  2000] loss: 0.103\n",
      "[4,  4000] loss: 0.211\n",
      "[5,  2000] loss: 0.081\n",
      "[5,  4000] loss: 0.162\n",
      "Finished Training\n"
     ]
    }
   ],
   "source": [
    "class MLP(nn.Module):\n",
    "    def __init__(self):\n",
    "        super().__init__()\n",
    "        \n",
    "        self.in_dim = 28*28\n",
    "        self.out_dim = 10\n",
    "        self.fc1 = nn.Linear(self.in_dim, 512)\n",
    "        self.fc2 = nn.Linear(512,256)\n",
    "        self.fc3 = nn.Linear(256,128)\n",
    "        self.fc4 = nn.Linear(128,64)\n",
    "        self.fc5 = nn.Linear(64,self.out_dim)\n",
    "    def forward(self, x):\n",
    "        x= F.relu(self.fc1(x.view(-1,self.in_dim)))\n",
    "        x= F.relu(self.fc2(x))\n",
    "        x= F.relu(self.fc3(x))\n",
    "        x= F.relu(self.fc4(x))\n",
    "        x = self.fc5(x)\n",
    "        return x\n",
    "\n",
    "model =MLP()\n",
    "criterion = nn.CrossEntropyLoss()\n",
    "optimizer = optim.SGD(model.parameters(),lr=0.01)\n",
    "for epoch in range(5):\n",
    "    running_loss = 0.0\n",
    "    for i ,data in enumerate(train_loader,0):\n",
    "        inputs, label =data\n",
    "        model.zero_grad()\n",
    "        \n",
    "        outputs = model(inputs)\n",
    "        loss = criterion(outputs,label)\n",
    "        loss.backward()\n",
    "        optimizer.step()\n",
    "        running_loss += loss.item()\n",
    "        if (i+1)%2000 == 0:\n",
    "            print('[%d, %5d] loss: %.3f' %(epoch+1, i+1, running_loss/2000))\n",
    "print(\"Finished Training\")"
   ],
   "metadata": {
    "collapsed": false,
    "ExecuteTime": {
     "end_time": "2024-04-10T15:44:19.399095Z",
     "start_time": "2024-04-10T15:42:23.885961Z"
    }
   },
   "id": "6ee3e6949bfd38c5",
   "execution_count": 9
  },
  {
   "cell_type": "code",
   "outputs": [
    {
     "name": "stdout",
     "output_type": "stream",
     "text": [
      "GroundTruth\n",
      "   7   2   1   0   4   1   4   9   5   9   0   6\n",
      "Prediction\n",
      "   7   2   1   0   4   1   4   9   5   9   0   6\n"
     ]
    },
    {
     "data": {
      "text/plain": "<Figure size 640x480 with 1 Axes>",
      "image/png": "[encoded data removed]"
     },
     "metadata": {},
     "output_type": "display_data"
    }
   ],
   "source": [
    "\n",
    "\n",
    "images, labels = next(iter(test_loader))\n",
    "plt.imshow(np.transpose(torchvision.utils.make_grid(images, nrow=batch_size), (1,2,0)))\n",
    "print('GroundTruth')\n",
    "print(\" \"+ ' '.join('%3s'%label.item() for label in labels))\n",
    "outputs = model(images)\n",
    "_,predicted = torch.max(outputs,1)\n",
    "print(\"Prediction\")\n",
    "print(\" \"+' '.join('%3s' %label.item() for label in predicted))\n",
    "\n",
    "\n",
    "        "
   ],
   "metadata": {
    "collapsed": false,
    "ExecuteTime": {
     "end_time": "2024-04-10T15:48:41.089943Z",
     "start_time": "2024-04-10T15:48:40.923216Z"
    }
   },
   "id": "b5658054bc86e17b",
   "execution_count": 19
  }
 ],
 "metadata": {
  "kernelspec": {
   "display_name": "Python 3",
   "language": "python",
   "name": "python3"
  },
  "language_info": {
   "codemirror_mode": {
    "name": "ipython",
    "version": 2
   },
   "file_extension": ".py",
   "mimetype": "text/x-python",
   "name": "python",
   "nbconvert_exporter": "python",
   "pygments_lexer": "ipython2",
   "version": "2.7.6"
  }
 },
 "nbformat": 4,
 "nbformat_minor": 5
}
