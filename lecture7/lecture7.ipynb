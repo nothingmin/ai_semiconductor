{
 "cells": [
  {
   "cell_type": "code",
   "outputs": [
    {
     "name": "stderr",
     "output_type": "stream",
     "text": [
      "C:\\Users\\wnl10\\anaconda3\\envs\\eee3036\\Lib\\site-packages\\sklearn\\base.py:464: UserWarning: X does not have valid feature names, but MinMaxScaler was fitted with feature names\n",
      "  warnings.warn(\n"
     ]
    },
    {
     "name": "stdout",
     "output_type": "stream",
     "text": [
      "0.02008107157028976\n",
      "0.984359785012254\n"
     ]
    }
   ],
   "source": [
    "import pandas as pd\n",
    "import numpy as np\n",
    "from math import exp, log\n",
    "from sklearn.preprocessing import MinMaxScaler\n",
    "\n",
    "advertising = pd.read_csv('C:/Users/wnl10\\PycharmProjects/ai_semiconductor/lecture7/advertising.csv')\n",
    "Xdf = advertising[['Daily Time Spent on Site', 'Daily Internet Usage']]\n",
    "Ydf = advertising['Clicked on Ad']\n",
    "\n",
    "scaler = MinMaxScaler()\n",
    "scaler.fit(Xdf)\n",
    "# Normalize Xdf\n",
    "Xdf_norm = (Xdf - Xdf.min()) / (Xdf.max() - Xdf.min())\n",
    "Xdf_norm.head()\n",
    "\n",
    "# Convert dataframe format to list to fit-in out model\n",
    "# X = Xdf_norm.values.tolist()\n",
    "X = scaler.transform(Xdf.values)\n",
    "Y = Ydf.values.tolist()\n",
    "\n",
    "\n",
    "class logisitic_regression_model():\n",
    "    def __init__(self, X, Y):\n",
    "        self.w = np.random.normal(size=len(X.iloc[0]))\n",
    "        self.b = np.random.random_sample()\n",
    "        self.X = np.asarray(X)\n",
    "        self.Y = Y\n",
    "\n",
    "    def sigmoid(self, z):\n",
    "        result = 1 / (1 + exp(-z))\n",
    "        result = np.minimum(result, 0.999999999)\n",
    "        result = np.maximum(result, 0.000000001)\n",
    "        return result\n",
    "\n",
    "    def predict(self, x):\n",
    "        z = np.inner(self.w, x) + self.b\n",
    "        a = self.sigmoid(z)\n",
    "        return a\n",
    "\n",
    "    def train(self, lr=0.5):\n",
    "        dw = np.array([0.0 for _ in range(len(self.X[0]))])\n",
    "        db = 0.0\n",
    "        m = len(self.X)\n",
    "        cost = 0.0\n",
    "        for x, y in zip(self.X, self.Y):\n",
    "            y_hat = model.predict(x)\n",
    "            if y == 1:\n",
    "                cost -= log(y_hat)\n",
    "            else:\n",
    "                cost -= log(1 - y_hat)\n",
    "            dw += (y_hat - y) * np.asarray(x)\n",
    "            db += (y_hat - y)\n",
    "        cost /= m\n",
    "        self.w -= lr * dw / m\n",
    "        self.b -= lr * db / m\n",
    "        return cost\n",
    "\n",
    "\n",
    "model = logisitic_regression_model(Xdf_norm, Y)\n",
    "for epoch in range(1000):\n",
    "    cost = model.train()\n",
    "print(model.predict([0.8, 0.8]))\n",
    "print(model.predict([0.2, 0.2]))"
   ],
   "metadata": {
    "collapsed": false,
    "ExecuteTime": {
     "end_time": "2024-03-26T08:49:08.632616Z",
     "start_time": "2024-03-26T08:48:54.620426Z"
    }
   },
   "id": "2f2a8c31d64292aa",
   "execution_count": 79
  }
 ],
 "metadata": {
  "kernelspec": {
   "display_name": "Python 3",
   "language": "python",
   "name": "python3"
  },
  "language_info": {
   "codemirror_mode": {
    "name": "ipython",
    "version": 2
   },
   "file_extension": ".py",
   "mimetype": "text/x-python",
   "name": "python",
   "nbconvert_exporter": "python",
   "pygments_lexer": "ipython2",
   "version": "2.7.6"
  }
 },
 "nbformat": 4,
 "nbformat_minor": 5
}
