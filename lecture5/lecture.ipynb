{
 "cells": [
  {
   "cell_type": "code",
   "execution_count": null,
   "id": "4912c28de15f22f",
   "metadata": {
    "collapsed": false
   },
   "outputs": [],
   "source": [
    "import random\n",
    "from math import exp, log\n",
    "import matplotlib.pyplot as plt"
   ]
  },
  {
   "cell_type": "code",
   "outputs": [],
   "source": [
    "\n",
    "X = [(0, 0), (1, 0), (0, 1), (1, 1)]\n",
    "Y = [0, 0, 0, 1]"
   ],
   "metadata": {
    "collapsed": false
   },
   "id": "63fac07811f4479e",
   "execution_count": null
  },
  {
   "cell_type": "code",
   "outputs": [],
   "source": [
    "\n",
    "X1 = [i[0] for i in X]\n",
    "X2 = [i[1] for i in X]\n",
    "\n",
    "from matplotlib.colors import ListedColormap\n",
    "\n",
    "colors = ListedColormap(['b', 'r'])\n",
    "plt.figure()\n",
    "scatter = plt.scatter(x=X1, y=X2, c=Y, cmap=colors)\n",
    "plt.legend(handles=scatter.legend_elements()[0], labels=['0', '1'])\n"
   ],
   "metadata": {
    "collapsed": false
   },
   "id": "8f737d39ac4c2e67",
   "execution_count": null
  },
  {
   "cell_type": "code",
   "outputs": [
    {
     "name": "stdout",
     "output_type": "stream",
     "text": [
      "0 1.2274682507217696\n",
      "100 0.2277989008198188\n",
      "200 0.14313080276602919\n",
      "300 0.10409667069665268\n",
      "400 0.08148681972751629\n",
      "500 0.06677097533376097\n",
      "600 0.05645800019725995\n",
      "700 0.048845858175084224\n",
      "800 0.043006072766721117\n",
      "900 0.038389900438515825\n",
      "0.00010122536180814205\n",
      "0.03976488173101372\n",
      "0.03976490551853211\n",
      "0.9442583711996326\n"
     ]
    }
   ],
   "source": [
    "\n",
    "class logisitic_regression_model():\n",
    "    def __init__(self):\n",
    "        self.w = [random.random(), random.random()]\n",
    "        self.b = random.random()\n",
    "\n",
    "    def sigmoid(self, z):\n",
    "        return 1 / (1 + exp(-z))\n",
    "\n",
    "    def predict(self, x):\n",
    "        z = self.w[0] * x[0] + self.w[1] * x[1] + self.b\n",
    "        a = self.sigmoid(z)\n",
    "        return a\n",
    "\n",
    "\n",
    "def train(X, Y, model, lr=0.1):\n",
    "    dw0 = 0.0\n",
    "    dw1 = 0.0\n",
    "    db = 0.0\n",
    "    m = len(X)\n",
    "    cost = 0.0\n",
    "    for x, y in zip(X, Y):\n",
    "        a = model.predict(x)\n",
    "        if y == 1:\n",
    "            cost -= log(a)\n",
    "        else:\n",
    "            cost -= log(1 - a)\n",
    "        dw0 += (a - y) * x[0]\n",
    "        dw1 += (a - y) * x[1]\n",
    "        db += (a - y)\n",
    "    cost /= m\n",
    "    model.w[0] -= lr * dw0 / m\n",
    "    model.w[1] -= lr * dw1 / m\n",
    "    model.b -= lr * db / m\n",
    "    return cost\n",
    "\n",
    "\n",
    "model = logisitic_regression_model()\n",
    "for epoch in range(1000):\n",
    "    cost = train(X, Y, model, 0.5)\n",
    "    if epoch % 100 == 0:\n",
    "        print(epoch, cost)\n",
    "        \n",
    "print(model.predict((0, 0)))\n",
    "print(model.predict((0, 1)))\n",
    "print(model.predict((1, 0)))\n",
    "print(model.predict((1, 1)))"
   ],
   "metadata": {
    "collapsed": true,
    "ExecuteTime": {
     "end_time": "2024-03-19T08:16:26.618198Z",
     "start_time": "2024-03-19T08:16:26.594870Z"
    }
   },
   "id": "initial_id",
   "execution_count": 28
  }
 ],
 "metadata": {
  "kernelspec": {
   "display_name": "Python 3",
   "language": "python",
   "name": "python3"
  },
  "language_info": {
   "codemirror_mode": {
    "name": "ipython",
    "version": 2
   },
   "file_extension": ".py",
   "mimetype": "text/x-python",
   "name": "python",
   "nbconvert_exporter": "python",
   "pygments_lexer": "ipython2",
   "version": "2.7.6"
  }
 },
 "nbformat": 4,
 "nbformat_minor": 5
}
